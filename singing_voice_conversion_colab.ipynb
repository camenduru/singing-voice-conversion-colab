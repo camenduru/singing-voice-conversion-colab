{
  "cells": [
    {
      "cell_type": "markdown",
      "metadata": {
        "id": "view-in-github"
      },
      "source": [
        "[![Open In Colab](https://colab.research.google.com/assets/colab-badge.svg)](https://colab.research.google.com/github/camenduru/singing-voice-conversion-colab/blob/main/singing_voice_conversion_colab.ipynb)"
      ]
    },
    {
      "cell_type": "code",
      "execution_count": null,
      "metadata": {
        "id": "VjYy0F2gZIPR"
      },
      "outputs": [],
      "source": [
        "%cd /content\n",
        "!git clone -b dev https://github.com/camenduru/singing_voice_conversion-hf\n",
        "%cd /content/singing_voice_conversion-hf\n",
        "\n",
        "!pip install -q fairseq git+https://github.com/lhotse-speech/lhotse encodec phonemizer==3.2.1 pypinyin==0.48.0 gradio==4.8.0 diffusers accelerate json5 ruamel_yaml ffmpeg-python unidecode\n",
        "!pip uninstall -y parselmouth\n",
        "!pip install -q praat-parselmouth\n",
        "!pip install -q https://github.com/camenduru/wheels/releases/download/colab/parselmouth-1.1.1-py3-none-any.whl\n",
        "!pip install -q pandas torchcrepe pyworld diffsptk tgt -U\n",
        "\n",
        "!apt -y install -qq aria2\n",
        "!aria2c --console-log-level=error -c -x 16 -s 16 -k 1M https://huggingface.co/spaces/amphion/singing_voice_conversion/resolve/main/ckpts/svc/vocalist_l1_contentvec+whisper/checkpoint/epoch-6852_step-0678447_loss-1.946773/optimizer.bin -d /content/singing_voice_conversion-hf/ckpts/svc/vocalist_l1_contentvec+whisper/checkpoint -o epoch-6852_step-0678447_loss-1.946773/optimizer.bin\n",
        "!aria2c --console-log-level=error -c -x 16 -s 16 -k 1M https://huggingface.co/spaces/amphion/singing_voice_conversion/resolve/main/ckpts/svc/vocalist_l1_contentvec+whisper/checkpoint/epoch-6852_step-0678447_loss-1.946773/pytorch_model.bin -d /content/singing_voice_conversion-hf/ckpts/svc/vocalist_l1_contentvec+whisper/checkpoint -o epoch-6852_step-0678447_loss-1.946773/pytorch_model.bin\n",
        "!aria2c --console-log-level=error -c -x 16 -s 16 -k 1M https://huggingface.co/spaces/amphion/singing_voice_conversion/resolve/main/ckpts/svc/vocalist_l1_contentvec+whisper/checkpoint/epoch-6852_step-0678447_loss-1.946773/random_states_0.pkl -d /content/singing_voice_conversion-hf/ckpts/svc/vocalist_l1_contentvec+whisper/checkpoint -o epoch-6852_step-0678447_loss-1.946773/random_states_0.pkl\n",
        "!aria2c --console-log-level=error -c -x 16 -s 16 -k 1M https://huggingface.co/spaces/amphion/singing_voice_conversion/resolve/main/ckpts/svc/vocalist_l1_contentvec+whisper/data/vocalist_l1/mel_min_max_stats/mel_max.npy -d /content/singing_voice_conversion-hf/ckpts/svc/vocalist_l1_contentvec+whisper/data/vocalist_l1 -o mel_min_max_stats/mel_max.npy\n",
        "!aria2c --console-log-level=error -c -x 16 -s 16 -k 1M https://huggingface.co/spaces/amphion/singing_voice_conversion/resolve/main/ckpts/svc/vocalist_l1_contentvec+whisper/data/vocalist_l1/mel_min_max_stats/mel_min.npy -d /content/singing_voice_conversion-hf/ckpts/svc/vocalist_l1_contentvec+whisper/data/vocalist_l1 -o mel_min_max_stats/mel_min.npy\n",
        "!aria2c --console-log-level=error -c -x 16 -s 16 -k 1M https://huggingface.co/spaces/amphion/singing_voice_conversion/resolve/main/ckpts/svc/vocalist_l1_contentvec+whisper/log/vocalist_l1_contentvec+whisper/events.out.tfevents.1696052302.mmnewyardnodesz63219.120.0 -d /content/singing_voice_conversion-hf/ckpts/svc/vocalist_l1_contentvec+whisper/log/vocalist_l1_contentvec+whisper -o events.out.tfevents.1696052302.mmnewyardnodesz63219.120.0\n",
        "!aria2c --console-log-level=error -c -x 16 -s 16 -k 1M https://huggingface.co/spaces/amphion/singing_voice_conversion/resolve/main/ckpts/svc/vocalist_l1_contentvec+whisper/log/vocalist_l1_contentvec+whisper/events.out.tfevents.1696052302.mmnewyardnodesz63219.120.1 -d /content/singing_voice_conversion-hf/ckpts/svc/vocalist_l1_contentvec+whisper/log/vocalist_l1_contentvec+whisper -o events.out.tfevents.1696052302.mmnewyardnodesz63219.120.1\n",
        "!aria2c --console-log-level=error -c -x 16 -s 16 -k 1M https://huggingface.co/spaces/amphion/singing_voice_conversion/resolve/main/examples/chinese_female_recordings.wav -d /content/singing_voice_conversion-hf/examples -o chinese_female_recordings.wav\n",
        "!aria2c --console-log-level=error -c -x 16 -s 16 -k 1M https://huggingface.co/spaces/amphion/singing_voice_conversion/resolve/main/examples/chinese_male_seperated.wav -d /content/singing_voice_conversion-hf/examples -o chinese_male_seperated.wav\n",
        "!aria2c --console-log-level=error -c -x 16 -s 16 -k 1M https://huggingface.co/spaces/amphion/singing_voice_conversion/resolve/main/examples/english_female_seperated.wav -d /content/singing_voice_conversion-hf/examples -o english_female_seperated.wav\n",
        "!aria2c --console-log-level=error -c -x 16 -s 16 -k 1M https://huggingface.co/spaces/amphion/singing_voice_conversion/resolve/main/examples/english_male_recordings.wav -d /content/singing_voice_conversion-hf/examples -o english_male_recordings.wav\n",
        "!aria2c --console-log-level=error -c -x 16 -s 16 -k 1M https://huggingface.co/spaces/amphion/singing_voice_conversion/resolve/main/examples/output/chinese_female_recordings_vocalist_l1_JohnMayer.wav -d /content/singing_voice_conversion-hf/examples/output -o chinese_female_recordings_vocalist_l1_JohnMayer.wav\n",
        "!aria2c --console-log-level=error -c -x 16 -s 16 -k 1M https://huggingface.co/spaces/amphion/singing_voice_conversion/resolve/main/examples/output/chinese_male_seperated_vocalist_l1_TaylorSwift.wav -d /content/singing_voice_conversion-hf/examples/output -o chinese_male_seperated_vocalist_l1_TaylorSwift.wav\n",
        "!aria2c --console-log-level=error -c -x 16 -s 16 -k 1M https://huggingface.co/spaces/amphion/singing_voice_conversion/resolve/main/examples/output/english_female_seperated_vocalist_l1_汪峰.wav -d /content/singing_voice_conversion-hf/examples/output -o english_female_seperated_vocalist_l1_汪峰.wav\n",
        "!aria2c --console-log-level=error -c -x 16 -s 16 -k 1M https://huggingface.co/spaces/amphion/singing_voice_conversion/resolve/main/examples/output/english_male_recordings_vocalist_l1_石倚洁.wav -d /content/singing_voice_conversion-hf/examples/output -o english_male_recordings_vocalist_l1_石倚洁.wav\n",
        "!aria2c --console-log-level=error -c -x 16 -s 16 -k 1M https://huggingface.co/spaces/amphion/singing_voice_conversion/resolve/main/modules/whisper_extractor/assets/mel_filters.npz -d /content/singing_voice_conversion-hf/modules/whisper_extractor/assets -o mel_filters.npz\n",
        "!aria2c --console-log-level=error -c -x 16 -s 16 -k 1M https://huggingface.co/spaces/amphion/singing_voice_conversion/resolve/main/pretrained/bigvgan/400000.pt -d /content/singing_voice_conversion-hf/pretrained/bigvgan -o 400000.pt\n",
        "!aria2c --console-log-level=error -c -x 16 -s 16 -k 1M https://huggingface.co/spaces/amphion/singing_voice_conversion/resolve/main/pretrained/contentvec/checkpoint_best_legacy_500.pt -d /content/singing_voice_conversion-hf/pretrained/contentvec -o checkpoint_best_legacy_500.pt\n",
        "!aria2c --console-log-level=error -c -x 16 -s 16 -k 1M https://huggingface.co/spaces/amphion/singing_voice_conversion/resolve/main/pretrained/whisper/medium.pt -d /content/singing_voice_conversion-hf/pretrained/whisper -o medium.pt\n",
        "\n",
        "!python app.py"
      ]
    }
  ],
  "metadata": {
    "accelerator": "GPU",
    "colab": {
      "gpuType": "T4",
      "provenance": []
    },
    "kernelspec": {
      "display_name": "Python 3",
      "name": "python3"
    },
    "language_info": {
      "name": "python"
    }
  },
  "nbformat": 4,
  "nbformat_minor": 0
}
